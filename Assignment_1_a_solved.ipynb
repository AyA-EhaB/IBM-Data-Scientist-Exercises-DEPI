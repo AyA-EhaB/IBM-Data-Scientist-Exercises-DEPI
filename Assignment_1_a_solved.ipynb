{
  "cells": [
    {
      "cell_type": "markdown",
      "metadata": {
        "id": "uVPwf5w17n7y"
      },
      "source": [
        "## Python Task 3"
      ]
    },
    {
      "cell_type": "markdown",
      "metadata": {
        "id": "DF7ryIIU7n70"
      },
      "source": [
        "### Question: Count Vowels in a String\n",
        "\n",
        "**Description:** Write a function named count_vowels that takes a string as an argument and returns the count of vowels (a, e, i, o, u) in the string.\n",
        "\n",
        "The function should be case-insensitive, counting both uppercase and lowercase vowels.\n"
      ]
    },
    {
      "cell_type": "code",
      "execution_count": 1,
      "metadata": {
        "colab": {
          "base_uri": "https://localhost:8080/",
          "height": 35
        },
        "id": "59uPy2dr7n72",
        "outputId": "b4a3c431-91bf-4442-9d0e-a20c67c38820"
      },
      "outputs": [
        {
          "output_type": "execute_result",
          "data": {
            "text/plain": [
              "'\\n# Example Input:\\ntext = \"Hello World\"\\n# Expected Output:\\n3\\n'"
            ],
            "application/vnd.google.colaboratory.intrinsic+json": {
              "type": "string"
            }
          },
          "metadata": {},
          "execution_count": 1
        }
      ],
      "source": [
        "'''\n",
        "# Example Input:\n",
        "text = \"Hello World\"\n",
        "# Expected Output:\n",
        "3\n",
        "'''\n"
      ]
    },
    {
      "cell_type": "code",
      "execution_count": 3,
      "metadata": {
        "colab": {
          "base_uri": "https://localhost:8080/"
        },
        "id": "mVNjIQ-T7n73",
        "outputId": "bd77c6f0-02e9-45a9-a095-7b48c992be50"
      },
      "outputs": [
        {
          "output_type": "stream",
          "name": "stdout",
          "text": [
            "Enter a string: hello world\n",
            "you entered: hello world\n"
          ]
        }
      ],
      "source": [
        "text_input = input(\"Enter a string: \")\n",
        "print(f\"you entered: {text_input}\")"
      ]
    },
    {
      "cell_type": "code",
      "source": [
        "def is_vowel(char):\n",
        "  vowels = \"aeiou\"\n",
        "  return char.lower() in vowels"
      ],
      "metadata": {
        "id": "lc3jkVFJ88Qh"
      },
      "execution_count": 6,
      "outputs": []
    },
    {
      "cell_type": "markdown",
      "source": [
        "The **in** keyword performs a membership test\n",
        "\n",
        "The result of the membership check (True or False) is returned by the function."
      ],
      "metadata": {
        "id": "_pJ3zQMM-Wgg"
      }
    },
    {
      "cell_type": "code",
      "source": [
        "counter = 0\n",
        "for char in text_input:\n",
        "    if (is_vowel(char)):\n",
        "      counter+=1\n",
        "\n",
        "print(counter)\n"
      ],
      "metadata": {
        "colab": {
          "base_uri": "https://localhost:8080/"
        },
        "id": "imKUbW-E8ZUz",
        "outputId": "35f17841-7be4-4905-e666-22a091d8d3e0"
      },
      "execution_count": 7,
      "outputs": [
        {
          "output_type": "stream",
          "name": "stdout",
          "text": [
            "3\n"
          ]
        }
      ]
    },
    {
      "cell_type": "markdown",
      "metadata": {
        "id": "kvU5Od8b7n73"
      },
      "source": [
        "### Question: Find the Maximum Value in a List Using a Function\n",
        "Description: Write a function named find_max that takes a list of integers as an argument and returns the maximum value in the list.\n",
        "\n",
        "Do not use Python’s built-in max() function. The function should handle cases where the list is empty by returning None.\n"
      ]
    },
    {
      "cell_type": "code",
      "execution_count": null,
      "metadata": {
        "id": "0BV1McCY7n73"
      },
      "outputs": [],
      "source": [
        "'''\n",
        "# Example Input:\n",
        "numbers = [3, 5, 2, 8, 1]\n",
        "# Expected Output:\n",
        "8\n",
        "'''"
      ]
    },
    {
      "cell_type": "code",
      "execution_count": 8,
      "metadata": {
        "id": "ujhqwD257n73"
      },
      "outputs": [],
      "source": [
        "numbers= [5,8,11,52,77,6,1,122]\n"
      ]
    },
    {
      "cell_type": "code",
      "source": [
        "max_value = numbers[0]\n",
        "\n",
        "for n in numbers:\n",
        "  if n > max_value:\n",
        "    max_value = n\n",
        "\n",
        "print(max_value)"
      ],
      "metadata": {
        "colab": {
          "base_uri": "https://localhost:8080/"
        },
        "id": "1k642DzL-u6S",
        "outputId": "c09f98ab-9507-460e-af7e-0bfd0bba53ac"
      },
      "execution_count": 9,
      "outputs": [
        {
          "output_type": "stream",
          "name": "stdout",
          "text": [
            "122\n"
          ]
        }
      ]
    }
  ],
  "metadata": {
    "kernelspec": {
      "display_name": "Python 3 (ipykernel)",
      "language": "python",
      "name": "python3"
    },
    "language_info": {
      "codemirror_mode": {
        "name": "ipython",
        "version": 3
      },
      "file_extension": ".py",
      "mimetype": "text/x-python",
      "name": "python",
      "nbconvert_exporter": "python",
      "pygments_lexer": "ipython3",
      "version": "3.12.7"
    },
    "colab": {
      "provenance": []
    }
  },
  "nbformat": 4,
  "nbformat_minor": 0
}