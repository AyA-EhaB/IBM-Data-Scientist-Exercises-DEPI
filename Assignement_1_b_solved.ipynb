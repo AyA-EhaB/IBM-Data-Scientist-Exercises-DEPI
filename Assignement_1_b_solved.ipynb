{
  "cells": [
    {
      "cell_type": "markdown",
      "id": "b0e54bd3",
      "metadata": {
        "id": "b0e54bd3"
      },
      "source": [
        "## Question 1:\n",
        "Write a Python function called greet_user that takes two parameters: name (a string representing the user's name) and greeting (a string representing a greeting message). The function should print the personalized greeting message. If the greeting parameter is not provided, the function should use \"Hello\" as the default greeting.\n",
        "\n",
        "Expected Output:\n",
        "\n",
        "If the user's name is \"Alice\" and no specific greeting is provided, the function should print \"Hello, Alice!\".\n",
        "\n",
        "Please write the Python code for the greet_user function and demonstrate its usage with different examples, both with and without a specific greeting"
      ]
    },
    {
      "cell_type": "code",
      "execution_count": 3,
      "id": "b692411b",
      "metadata": {
        "id": "b692411b"
      },
      "outputs": [],
      "source": [
        "def greet_user(name, greetingWay=\"Hello\"):\n",
        "    print (f\"{greetingWay}, {name}!.\")\n",
        "\n"
      ]
    },
    {
      "cell_type": "code",
      "execution_count": 7,
      "id": "37d812aa",
      "metadata": {
        "id": "37d812aa"
      },
      "outputs": [],
      "source": [
        "user_name  = \"Aya\"\n",
        "greeting= \"Assalamualiakum\""
      ]
    },
    {
      "cell_type": "code",
      "source": [
        "greet_user(user_name, greeting)"
      ],
      "metadata": {
        "colab": {
          "base_uri": "https://localhost:8080/"
        },
        "id": "uL0ll-U0GHbL",
        "outputId": "91ce6eeb-6320-45ab-f01a-7d03711beea8"
      },
      "id": "uL0ll-U0GHbL",
      "execution_count": 8,
      "outputs": [
        {
          "output_type": "stream",
          "name": "stdout",
          "text": [
            "Assalamualiakum, Aya!.\n"
          ]
        }
      ]
    },
    {
      "cell_type": "code",
      "source": [
        "greet_user(user_name)"
      ],
      "metadata": {
        "colab": {
          "base_uri": "https://localhost:8080/"
        },
        "id": "jmKTnMRYGMnV",
        "outputId": "ee3c0d50-896e-4d56-9bdb-28e28c65c9af"
      },
      "id": "jmKTnMRYGMnV",
      "execution_count": 9,
      "outputs": [
        {
          "output_type": "stream",
          "name": "stdout",
          "text": [
            "Hello, Aya!.\n"
          ]
        }
      ]
    },
    {
      "cell_type": "markdown",
      "id": "43a5f688",
      "metadata": {
        "id": "43a5f688"
      },
      "source": [
        "## Question 2:\n",
        "Write a Python program that takes two tuples as input, each containing integers, and returns a new tuple containing the element-wise sum of the corresponding elements from the input tuples. Assume the input tuples have the same length.\n",
        "\n",
        "Expected Output:\n",
        "\n",
        "If the input tuples are (1, 2, 3) and (4, 5, 6), the program should return (5, 7, 9).\n",
        "Please write the Python code to accomplish this task."
      ]
    },
    {
      "cell_type": "code",
      "execution_count": 11,
      "id": "f2e4bd5e",
      "metadata": {
        "id": "f2e4bd5e"
      },
      "outputs": [],
      "source": [
        "tuple1 = (1, 2, 3)\n",
        "tuple2 = (4, 5, 6)"
      ]
    },
    {
      "cell_type": "code",
      "source": [
        "def sum_2tuples1 (t1, t2):\n",
        "   sum1 = tuple(a+b for a,b in zip(t1,t2))\n",
        "   return sum1"
      ],
      "metadata": {
        "id": "2St2JNb7HStE"
      },
      "id": "2St2JNb7HStE",
      "execution_count": 18,
      "outputs": []
    },
    {
      "cell_type": "code",
      "source": [
        "def sum_2tuples2 (t1, t2):\n",
        "   sum2 = tuple(map(sum, zip(t1,t2)))\n",
        "   return sum2"
      ],
      "metadata": {
        "id": "BNz46Er6H1sI"
      },
      "id": "BNz46Er6H1sI",
      "execution_count": 19,
      "outputs": []
    },
    {
      "cell_type": "code",
      "source": [
        "print(sum_2tuples1(tuple1,tuple2))\n",
        "print(sum_2tuples2(tuple1,tuple2))"
      ],
      "metadata": {
        "colab": {
          "base_uri": "https://localhost:8080/"
        },
        "id": "RR4qkHyBHr2o",
        "outputId": "9afbafff-ae84-46e4-bbbf-4da5f0635483"
      },
      "id": "RR4qkHyBHr2o",
      "execution_count": 20,
      "outputs": [
        {
          "output_type": "stream",
          "name": "stdout",
          "text": [
            "(5, 7, 9)\n",
            "(5, 7, 9)\n"
          ]
        }
      ]
    },
    {
      "cell_type": "markdown",
      "id": "eb50ce3a",
      "metadata": {
        "id": "eb50ce3a"
      },
      "source": [
        "## Question 3:\n",
        "Write a Python program that prompts the user to guess a secret number between 1 and 10. The program should continue to prompt the user for guesses until they correctly guess the secret number. Provide feedback to the user if their guess is too high or too low.\n",
        "\n",
        "Expected Output:\n",
        "\n",
        "If the secret number is 7 and the user's guesses are 5, 8, 7, the program should print:\n",
        "\n",
        "\"Too low! Try again.\"\n",
        "\n",
        "\"Too high! Try again.\"\n",
        "\n",
        "\"Congratulations! You guessed the secret number 7.\"\n",
        "\n",
        "Please write the Python code for this guessing game using a while loop."
      ]
    },
    {
      "cell_type": "code",
      "source": [
        "import numpy as np\n",
        "from random import randint"
      ],
      "metadata": {
        "id": "hfD9FmwpIdAu"
      },
      "id": "hfD9FmwpIdAu",
      "execution_count": 22,
      "outputs": []
    },
    {
      "cell_type": "code",
      "execution_count": 24,
      "id": "227d8033",
      "metadata": {
        "colab": {
          "base_uri": "https://localhost:8080/"
        },
        "id": "227d8033",
        "outputId": "5768acdc-b3e6-4b6b-e1e8-44371688af82"
      },
      "outputs": [
        {
          "output_type": "stream",
          "name": "stdout",
          "text": [
            "Guess a number between 1 & 10: 5\n",
            "Congratulations! You guessed the secret number 5.\n"
          ]
        }
      ],
      "source": [
        "# Generate a secret number between 1 and 10\n",
        "secret_number = randint(1, 10)\n",
        "# Initialize the user's guess to an invalid value\n",
        "user_gues = -1\n",
        "# Prompt the user to guess the secret number\n",
        "while (user_gues != secret_number):\n",
        "  user_gues = int (input(\"Guess a number between 1 & 10: \"))\n",
        "  if (user_gues == secret_number):\n",
        "    print (f\"Congratulations! You guessed the secret number {secret_number}.\")\n",
        "  elif (user_gues< secret_number):\n",
        "    print(\"Too low! Try again.\")\n",
        "  else :\n",
        "    print(\"Too high! Try again.\")\n",
        "# End of the game\n"
      ]
    },
    {
      "cell_type": "markdown",
      "id": "e3c169ff",
      "metadata": {
        "id": "e3c169ff"
      },
      "source": [
        "## Question 4:\n",
        "Write a Python program that takes a list of words as input and creates a dictionary where the keys are the unique words in the list, and the values are lists containing the indices (positions) at which each word appears in the list.\n",
        "\n",
        "Expected Output:\n",
        "\n",
        "If the input list is [\"apple\", \"banana\", \"orange\", \"banana\", \"kiwi\", \"apple\"], the program should return {'apple': [0,5], 'banana': [1,3], 'orange': [2], 'kiwi': [4]}.\n",
        "Please write the Python code to accomplish this task."
      ]
    },
    {
      "cell_type": "code",
      "execution_count": 32,
      "id": "2ea6eb25",
      "metadata": {
        "id": "2ea6eb25"
      },
      "outputs": [],
      "source": [
        "l = [\"apple\", \"banana\", \"orange\", \"banana\", \"kiwi\", \"apple\"]"
      ]
    },
    {
      "cell_type": "code",
      "execution_count": 33,
      "id": "c1f00882",
      "metadata": {
        "colab": {
          "base_uri": "https://localhost:8080/"
        },
        "id": "c1f00882",
        "outputId": "2810a4b6-def3-473d-dfd6-8b93fdc7540d"
      },
      "outputs": [
        {
          "output_type": "stream",
          "name": "stdout",
          "text": [
            "{'apple': [0, 5], 'banana': [1, 3], 'orange': [2], 'kiwi': [4]}\n"
          ]
        }
      ],
      "source": [
        "# Take a list of words as input\n",
        "dict_output = {}\n",
        "# Create a dictionary with word indices\n",
        "for index, ele in enumerate(l):\n",
        "    if ele in dict_output:\n",
        "        dict_output[ele].append(index)\n",
        "    else:\n",
        "        dict_output[ele]=[index]\n",
        "# Print the resulting dictionary\n",
        "print(dict_output)"
      ]
    }
  ],
  "metadata": {
    "kernelspec": {
      "display_name": "Python 3 (ipykernel)",
      "language": "python",
      "name": "python3"
    },
    "language_info": {
      "codemirror_mode": {
        "name": "ipython",
        "version": 3
      },
      "file_extension": ".py",
      "mimetype": "text/x-python",
      "name": "python",
      "nbconvert_exporter": "python",
      "pygments_lexer": "ipython3",
      "version": "3.12.7"
    },
    "colab": {
      "provenance": []
    }
  },
  "nbformat": 4,
  "nbformat_minor": 5
}